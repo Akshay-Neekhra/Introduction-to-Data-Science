{
 "cells": [
  {
   "cell_type": "markdown",
   "metadata": {},
   "source": [
    "---\n",
    "\n",
    "_You are currently looking at **version 1.1** of this notebook. To download notebooks and datafiles, as well as get help on Jupyter notebooks in the Coursera platform, visit the [Jupyter Notebook FAQ](https://www.coursera.org/learn/python-text-mining/resources/d9pwm) course resource._\n",
    "\n",
    "---"
   ]
  },
  {
   "cell_type": "markdown",
   "metadata": {},
   "source": [
    "# Assignment 1\n",
    "\n",
    "In this assignment, you'll be working with messy medical data and using regex to extract relevant infromation from the data. \n",
    "\n",
    "Each line of the `dates.txt` file corresponds to a medical note. Each note has a date that needs to be extracted, but each date is encoded in one of many formats.\n",
    "\n",
    "The goal of this assignment is to correctly identify all of the different date variants encoded in this dataset and to properly normalize and sort the dates. \n",
    "\n",
    "Here is a list of some of the variants you might encounter in this dataset:\n",
    "* 04/20/2009; 04/20/09; 4/20/09; 4/3/09\n",
    "* Mar-20-2009; Mar 20, 2009; March 20, 2009;  Mar. 20, 2009; Mar 20 2009;\n",
    "* 20 Mar 2009; 20 March 2009; 20 Mar. 2009; 20 March, 2009\n",
    "* Mar 20th, 2009; Mar 21st, 2009; Mar 22nd, 2009\n",
    "* Feb 2009; Sep 2009; Oct 2010\n",
    "* 6/2008; 12/2009\n",
    "* 2009; 2010\n",
    "\n",
    "Once you have extracted these date patterns from the text, the next step is to sort them in ascending chronological order accoring to the following rules:\n",
    "* Assume all dates in xx/xx/xx format are mm/dd/yy\n",
    "* Assume all dates where year is encoded in only two digits are years from the 1900's (e.g. 1/5/89 is January 5th, 1989)\n",
    "* If the day is missing (e.g. 9/2009), assume it is the first day of the month (e.g. September 1, 2009).\n",
    "* If the month is missing (e.g. 2010), assume it is the first of January of that year (e.g. January 1, 2010).\n",
    "* Watch out for potential typos as this is a raw, real-life derived dataset.\n",
    "\n",
    "With these rules in mind, find the correct date in each note and return a pandas Series in chronological order of the original Series' indices.\n",
    "\n",
    "For example if the original series was this:\n",
    "\n",
    "    0    1999\n",
    "    1    2010\n",
    "    2    1978\n",
    "    3    2015\n",
    "    4    1985\n",
    "\n",
    "Your function should return this:\n",
    "\n",
    "    0    2\n",
    "    1    4\n",
    "    2    0\n",
    "    3    1\n",
    "    4    3\n",
    "\n",
    "Your score will be calculated using [Kendall's tau](https://en.wikipedia.org/wiki/Kendall_rank_correlation_coefficient), a correlation measure for ordinal data.\n",
    "\n",
    "*This function should return a Series of length 500 and dtype int.*"
   ]
  },
  {
   "cell_type": "code",
   "execution_count": 1,
   "metadata": {},
   "outputs": [
    {
     "data": {
      "text/plain": [
       "0         03/25/93 Total time of visit (in minutes):\\n\n",
       "1                       6/18/85 Primary Care Doctor:\\n\n",
       "2    sshe plans to move as of 7/8/71 In-Home Servic...\n",
       "3                7 on 9/27/75 Audit C Score Current:\\n\n",
       "4    2/6/96 sleep studyPain Treatment Pain Level (N...\n",
       "5                    .Per 7/06/79 Movement D/O note:\\n\n",
       "6    4, 5/18/78 Patient's thoughts about current su...\n",
       "7    10/24/89 CPT Code: 90801 - Psychiatric Diagnos...\n",
       "8                         3/7/86 SOS-10 Total Score:\\n\n",
       "9             (4/10/71)Score-1Audit C Score Current:\\n\n",
       "dtype: object"
      ]
     },
     "execution_count": 1,
     "metadata": {},
     "output_type": "execute_result"
    }
   ],
   "source": [
    "import pandas as pd\n",
    "import numpy as np\n",
    "doc = []\n",
    "with open('dates.txt') as file:\n",
    "    for line in file:\n",
    "        doc.append(line)\n",
    "\n",
    "df = pd.Series(doc)\n",
    "df.head(10)"
   ]
  },
  {
   "cell_type": "code",
   "execution_count": null,
   "metadata": {
    "collapsed": true
   },
   "outputs": [],
   "source": [
    "#?:(\\d{1,2}/\\d{1,2}/\\d{2,4})|(\\d{4})|(\\d{1,2}/\\d{4})|((?:Jan|Feb|Mar|Apr|May|Jun|Jul|Aug|Sep|Oct|Nov|Dec)[\\s]*[\\d]{4})"
   ]
  },
  {
   "cell_type": "code",
   "execution_count": null,
   "metadata": {
    "collapsed": true
   },
   "outputs": [],
   "source": [
    "#((?:Jan|Feb|Mar|Apr|May|Jun|Jul|Aug|Sep|Oct|Nov|Dec)[\\s]*[\\d]{2}[tsn][htd][,][\\s]*[\\d]{2,4})"
   ]
  },
  {
   "cell_type": "code",
   "execution_count": null,
   "metadata": {
    "collapsed": true
   },
   "outputs": [],
   "source": [
    "#([\\d]{1,2}[\\s]*(?:Jan|Feb|Mar|Apr|May|Jun|Jul|Aug|Sep|Oct|Nov|Dec)[a-z]*[,.]{0,1}[\\s]*[\\d]{2,4})"
   ]
  },
  {
   "cell_type": "code",
   "execution_count": null,
   "metadata": {
    "collapsed": true
   },
   "outputs": [],
   "source": [
    "#((?:Jan|Feb|Mar|Apr|May|Jun|Jul|Aug|Sep|Oct|Nov|Dec)[a-z]*[-.]{0,1}[\\s]*[\\d]{1,2}[-,]{0,1}[\\s]*[\\d]{2,4})"
   ]
  },
  {
   "cell_type": "code",
   "execution_count": 132,
   "metadata": {
    "collapsed": true
   },
   "outputs": [],
   "source": [
    "pattern = r'(?:(\\d{1,2}/\\d{1,2}/\\d{2,4})|([\\d]{1,2}[-]{1}[\\d]{1,2}[-]{1}[\\d]{2,4})|(\\d{4})|(\\d{1,2}/\\d{4})|((?:Jan|Feb|Mar|Apr|May|Jun|Jul|Aug|Sep|Oct|Nov|Dec)[\\s]*[\\d]{4})|((?:Jan|Feb|Mar|Apr|May|Jun|Jul|Aug|Sep|Oct|Nov|Dec)[\\s]*[\\d]{2}[tsn][htd][,][\\s]*[\\d]{2,4})|([\\d]{1,2}[\\s]*(?:Jan|Feb|Mar|Apr|May|Jun|Jul|Aug|Sep|Oct|Nov|Dec)[a-z]*[,.]{0,1}[\\s]*[\\d]{2,4})|((?:Jan|Feb|Mar|Apr|May|Jun|Jul|Aug|Sep|Oct|Nov|Dec)[a-z]*[-.]{0,1}[\\s]*[\\d]{1,2}[-,]{0,1}[\\s]*[\\d]{2,4}))'\n"
   ]
  },
  {
   "cell_type": "code",
   "execution_count": 580,
   "metadata": {
    "collapsed": true
   },
   "outputs": [],
   "source": [
    "ndf = pd.DataFrame(df,columns=['text'])\n"
   ]
  },
  {
   "cell_type": "code",
   "execution_count": 581,
   "metadata": {},
   "outputs": [
    {
     "name": "stderr",
     "output_type": "stream",
     "text": [
      "/opt/conda/lib/python3.6/site-packages/ipykernel_launcher.py:1: FutureWarning: currently extract(expand=None) means expand=False (return Index/Series/DataFrame) but in a future version of pandas this will be changed to expand=True (return DataFrame)\n",
      "  \"\"\"Entry point for launching an IPython kernel.\n"
     ]
    }
   ],
   "source": [
    "ldf = ndf['text'].str.extract(pattern)"
   ]
  },
  {
   "cell_type": "code",
   "execution_count": 582,
   "metadata": {
    "collapsed": true
   },
   "outputs": [],
   "source": [
    "ldf['Date'] = ldf[0].astype(str) + ldf[1].astype(str) +ldf[2].astype(str) + ldf[3].astype(str) + ldf[4].astype(str)+ ldf[5].astype(str)+ ldf[6].astype(str)+ldf[7].astype(str)"
   ]
  },
  {
   "cell_type": "code",
   "execution_count": 583,
   "metadata": {
    "collapsed": true
   },
   "outputs": [],
   "source": [
    "def remove_space(ddd):\n",
    "    return ddd.strip('nan')"
   ]
  },
  {
   "cell_type": "code",
   "execution_count": 584,
   "metadata": {
    "collapsed": true
   },
   "outputs": [],
   "source": [
    "ldf['Date'] = ldf['Date'].apply(remove_space)"
   ]
  },
  {
   "cell_type": "code",
   "execution_count": 585,
   "metadata": {
    "collapsed": true
   },
   "outputs": [],
   "source": [
    "ldf['Date'] = ldf['Date'].str.lower()"
   ]
  },
  {
   "cell_type": "code",
   "execution_count": 555,
   "metadata": {},
   "outputs": [
    {
     "data": {
      "text/plain": [
       "'2june, 1999'"
      ]
     },
     "execution_count": 555,
     "metadata": {},
     "output_type": "execute_result"
    }
   ],
   "source": [
    "#ldf['Date'][321]"
   ]
  },
  {
   "cell_type": "code",
   "execution_count": 586,
   "metadata": {
    "collapsed": true
   },
   "outputs": [],
   "source": [
    "ldf['Date'] = ldf['Date'].str.replace('january','1')\n",
    "ldf['Date'] = ldf['Date'].str.replace('february','2')\n",
    "ldf['Date'] = ldf['Date'].str.replace('march','3')\n",
    "ldf['Date'] = ldf['Date'].str.replace('april','4')\n",
    "ldf['Date'] = ldf['Date'].str.replace('may','5')\n",
    "ldf['Date'] = ldf['Date'].str.replace('june','6')\n",
    "ldf['Date'] = ldf['Date'].str.replace('july','7')\n",
    "ldf['Date'] = ldf['Date'].str.replace('august','8')\n",
    "ldf['Date'] = ldf['Date'].str.replace('september','9')\n",
    "ldf['Date'] = ldf['Date'].str.replace('october','10')\n",
    "ldf['Date'] = ldf['Date'].str.replace('november','11')\n",
    "ldf['Date'] = ldf['Date'].str.replace('december','12')"
   ]
  },
  {
   "cell_type": "code",
   "execution_count": 587,
   "metadata": {
    "collapsed": true
   },
   "outputs": [],
   "source": [
    "\n",
    "ldf['Date'] = ldf['Date'].str.replace('jan','1')\n",
    "ldf['Date'] = ldf['Date'].str.replace('feb','2')\n",
    "ldf['Date'] = ldf['Date'].str.replace('mar','3')\n",
    "ldf['Date'] = ldf['Date'].str.replace('apr','4')\n",
    "ldf['Date'] = ldf['Date'].str.replace('may','5')\n",
    "ldf['Date'] = ldf['Date'].str.replace('jun','6')\n",
    "ldf['Date'] = ldf['Date'].str.replace('jul','7')\n",
    "ldf['Date'] = ldf['Date'].str.replace('aug','8')\n",
    "ldf['Date'] = ldf['Date'].str.replace('sep','9')\n",
    "ldf['Date'] = ldf['Date'].str.replace('oct','10')\n",
    "ldf['Date'] = ldf['Date'].str.replace('nov','11')\n",
    "ldf['Date'] = ldf['Date'].str.replace('dec','12')"
   ]
  },
  {
   "cell_type": "code",
   "execution_count": 588,
   "metadata": {
    "collapsed": true
   },
   "outputs": [],
   "source": [
    "ldf['Date'] = ldf['Date'].str.replace('1aury','1')\n",
    "ldf['Date'] = ldf['Date'].str.replace('12emeber','12')\n",
    "ldf['Date'] = ldf['Date'].replace('7787','8 2008')\n",
    "ldf['Date'] = ldf['Date'].replace('26, 1999','6 2 1999')"
   ]
  },
  {
   "cell_type": "code",
   "execution_count": 589,
   "metadata": {
    "collapsed": true
   },
   "outputs": [],
   "source": [
    "ndf = pd.to_datetime(ldf['Date'])"
   ]
  },
  {
   "cell_type": "code",
   "execution_count": 521,
   "metadata": {},
   "outputs": [
    {
     "data": {
      "text/plain": [
       "'26 1999'"
      ]
     },
     "execution_count": 521,
     "metadata": {},
     "output_type": "execute_result"
    }
   ],
   "source": [
    "#ldf['Date'][321]"
   ]
  },
  {
   "cell_type": "code",
   "execution_count": 591,
   "metadata": {
    "collapsed": true
   },
   "outputs": [],
   "source": [
    "ndf = ndf.sort_values()"
   ]
  },
  {
   "cell_type": "code",
   "execution_count": 593,
   "metadata": {},
   "outputs": [
    {
     "data": {
      "text/plain": [
       "array([  9,  84,   2,  53,  28, 474, 153,  13, 171,  98, 129, 111, 225,\n",
       "        31, 191, 486, 415, 335,  36, 323, 405, 422, 375, 380, 345,  57,\n",
       "       481, 436, 104, 299, 402,  95,  73, 162, 108, 156, 332, 154, 182,\n",
       "        82, 351, 278, 214, 155, 223, 473, 317,  49,  11, 319,  40, 418,\n",
       "       165, 370, 382,   3,  50, 363, 219, 465, 237,  23, 342, 204, 258,\n",
       "       315,  27,  93,  17, 303, 488, 283, 395, 309, 419, 123,  19, 117,\n",
       "       232,  72, 189, 318, 493, 369, 239, 148, 105, 336,   6, 200,  81,\n",
       "        65, 434, 164, 378, 313, 495, 167, 424, 398,   5, 254, 296,  75,\n",
       "        21, 259, 499, 347,  78, 340, 441, 361, 267, 221, 150, 466,  39,\n",
       "       134, 197, 355, 430,  80, 444, 246,  85, 215, 263,  74, 403, 458,\n",
       "        16,  25, 127, 454,  70,  44,  59, 103, 179, 112, 429,  88, 470,\n",
       "       358, 205, 397, 294, 295,  35, 438, 247, 209,  61, 107, 285, 137,\n",
       "       175,  99, 455,  24, 421, 275,  48, 426, 489,  30, 274,  10, 178,\n",
       "         1, 280, 447, 185, 228, 135, 136,  69, 492, 199, 352,   8, 276,\n",
       "       230, 334,  96,  38, 368, 404, 261, 168,  29, 437, 423,  54, 284,\n",
       "       485,  68,  32, 349,  41,  63, 416,  55, 130, 116,  76, 462, 330,\n",
       "       174,  37, 390, 256, 180, 216, 476, 312, 265, 115,  71, 218, 202,\n",
       "       440, 385, 373, 210,  89, 149,  26,   7, 435, 233, 482, 177, 412,\n",
       "        22, 194,  14, 151, 157, 206, 245, 122,  94, 461, 226,  97,  91,\n",
       "        51,  33, 453,  67,  46, 322,  66, 399, 487,  62, 211, 138,  52,\n",
       "       269, 119, 100, 442, 310, 143, 301, 113, 478, 298, 272, 354,   0,\n",
       "       249,  86, 192, 172, 357, 331, 477, 450, 300, 163, 308, 196,  47,\n",
       "       133, 359,  64,  42, 409, 406, 311, 483, 238, 193, 140, 388,  56,\n",
       "       236, 372, 110, 248,  60, 181, 203, 326,  90, 169, 292, 479, 142,\n",
       "         4, 124, 324, 121, 131, 166, 468, 365, 213,  87, 353, 101, 333,\n",
       "       114, 459, 338,  45,  18, 222, 343,  20, 224,  12,  79, 387, 251,\n",
       "       120, 471,  77, 376, 432, 327, 384, 321, 212, 407, 266, 145, 201,\n",
       "       456, 329, 305, 260, 420, 392, 417, 158, 443,  83, 190, 374, 457,\n",
       "       328, 125, 159, 195, 147, 377, 367, 394, 494, 304, 446,  43, 262,\n",
       "       128, 102, 449, 184, 469, 452, 144, 234, 362, 356, 291, 306, 484,\n",
       "       414,  92, 350, 241, 425, 281, 207, 126, 302, 146, 451, 188, 339,\n",
       "       498, 250, 344, 346, 348, 270, 496, 106, 118, 433, 307, 173, 410,\n",
       "       490, 314, 252, 391, 277, 325, 264, 289, 160, 341, 132, 428, 337,\n",
       "       445, 497, 187, 183, 396, 271, 293, 400, 360, 297, 491, 371, 389,\n",
       "       386, 288, 379, 268, 273, 472, 287, 448, 176, 411, 408, 364, 242,\n",
       "        58, 467, 240, 170,  15, 316, 229, 217, 109, 227, 290, 460, 393,\n",
       "       282,  34, 220, 208, 243, 139, 320, 383, 244, 286, 480, 431, 279,\n",
       "       198, 381, 463, 366, 439, 255, 401, 475, 257, 152, 235, 464, 253,\n",
       "       427, 231, 141, 186, 161, 413])"
      ]
     },
     "execution_count": 593,
     "metadata": {},
     "output_type": "execute_result"
    }
   ],
   "source": []
  },
  {
   "cell_type": "code",
   "execution_count": 3,
   "metadata": {
    "collapsed": true
   },
   "outputs": [],
   "source": [
    "def date_sorter():\n",
    "    \n",
    "    # Your code here  \n",
    "    \n",
    "    return pd.Series(ndf.index.values) "
   ]
  }
 ],
 "metadata": {
  "coursera": {
   "course_slug": "python-text-mining",
   "graded_item_id": "LvcWI",
   "launcher_item_id": "krne9",
   "part_id": "Mkp1I"
  },
  "kernelspec": {
   "display_name": "Python 3 (ipykernel)",
   "language": "python",
   "name": "python3"
  },
  "language_info": {
   "codemirror_mode": {
    "name": "ipython",
    "version": 3
   },
   "file_extension": ".py",
   "mimetype": "text/x-python",
   "name": "python",
   "nbconvert_exporter": "python",
   "pygments_lexer": "ipython3",
   "version": "3.9.0"
  }
 },
 "nbformat": 4,
 "nbformat_minor": 2
}
